{
 "cells": [
  {
   "cell_type": "markdown",
   "id": "b60786f6",
   "metadata": {},
   "source": [
    "# Finland's COVID-19 Data of 2020 - Final Project"
   ]
  },
  {
   "cell_type": "markdown",
   "id": "e2b2ee1c",
   "metadata": {},
   "source": [
    "COVID-19, also known as the coronavirus, is a severe acute respiratory syndrome. It is believed to have originated in Wuhan, China in December of 2019. Symptoms include fever, dry cough, fatigue, headache, heavy breathing, and loss of taste or smell. Often, symptoms begin anywhere from one to fourteen days after the initial exposure. Transmission of the disease are found to be through close contact with another, causing small droplets of the virus to spread through one’s nose and mouth as they breathe, cough, sneeze, etc. Due to this information a worldwide mandate was released to wear masks at all times when indoors and outdoors in addition to a “social distancing” protocol, encouraging others to remain six feet apart from each other.  "
   ]
  },
  {
   "cell_type": "markdown",
   "id": "c895e535",
   "metadata": {},
   "source": [
    "## Data Source"
   ]
  },
  {
   "cell_type": "markdown",
   "id": "c37c7184",
   "metadata": {},
   "source": [
    "The data is from [European Centre for Disease Prevention and Control](https://www.ecdc.europa.eu/en/publications-data/download-todays-data-geographic-distribution-covid-19-cases-worldwide)"
   ]
  },
  {
   "cell_type": "markdown",
   "id": "623179b5",
   "metadata": {},
   "source": [
    "![Finland_image](https://th.bing.com/th/id/R5e5eb5af69aa10c4292a6cb658bba40f?rik=KLh9EoyNhv28MQ&riu=http%3a%2f%2fwww.icicp.org%2fwp-content%2fuploads%2f2014%2f02%2fFinland-Flag.gif&ehk=cOllnGmRx71P%2baKW80Xa%2bBuLpDknW6w4huY8DXFuX1M%3d&risl=&pid=ImgRaw)"
   ]
  },
  {
   "cell_type": "markdown",
   "id": "ef804d7f",
   "metadata": {},
   "source": [
    "The calculations made in this code are through the data source linked above. This source provides data on case numbers confirmed of COVID-19 around the world. This project specifically looked at Finland's number of confirmed cases in 2020, the death number in 2020 that has resulted from the cases, and which months have the highest death rates as of December 2020.  "
   ]
  },
  {
   "cell_type": "code",
   "execution_count": 1,
   "id": "21afd436",
   "metadata": {},
   "outputs": [],
   "source": [
    "%matplotlib inline\n",
    "import pandas"
   ]
  },
  {
   "cell_type": "markdown",
   "id": "d84f8554",
   "metadata": {},
   "source": [
    "## A Quick View of the Data\n"
   ]
  },
  {
   "cell_type": "code",
   "execution_count": 2,
   "id": "fa9fe12e",
   "metadata": {},
   "outputs": [
    {
     "data": {
      "text/html": [
       "<div>\n",
       "<style scoped>\n",
       "    .dataframe tbody tr th:only-of-type {\n",
       "        vertical-align: middle;\n",
       "    }\n",
       "\n",
       "    .dataframe tbody tr th {\n",
       "        vertical-align: top;\n",
       "    }\n",
       "\n",
       "    .dataframe thead th {\n",
       "        text-align: right;\n",
       "    }\n",
       "</style>\n",
       "<table border=\"1\" class=\"dataframe\">\n",
       "  <thead>\n",
       "    <tr style=\"text-align: right;\">\n",
       "      <th></th>\n",
       "      <th>dateRep</th>\n",
       "      <th>day</th>\n",
       "      <th>month</th>\n",
       "      <th>year</th>\n",
       "      <th>cases</th>\n",
       "      <th>deaths</th>\n",
       "      <th>countriesAndTerritories</th>\n",
       "      <th>geoId</th>\n",
       "      <th>countryterritoryCode</th>\n",
       "      <th>popData2019</th>\n",
       "      <th>continentExp</th>\n",
       "      <th>Cumulative_number_for_14_days_of_COVID-19_cases_per_100000</th>\n",
       "    </tr>\n",
       "  </thead>\n",
       "  <tbody>\n",
       "    <tr>\n",
       "      <th>0</th>\n",
       "      <td>2020-12-14</td>\n",
       "      <td>14</td>\n",
       "      <td>12</td>\n",
       "      <td>2020</td>\n",
       "      <td>746</td>\n",
       "      <td>6</td>\n",
       "      <td>Afghanistan</td>\n",
       "      <td>AF</td>\n",
       "      <td>AFG</td>\n",
       "      <td>38041757.0</td>\n",
       "      <td>Asia</td>\n",
       "      <td>9.013779</td>\n",
       "    </tr>\n",
       "    <tr>\n",
       "      <th>1</th>\n",
       "      <td>2020-12-13</td>\n",
       "      <td>13</td>\n",
       "      <td>12</td>\n",
       "      <td>2020</td>\n",
       "      <td>298</td>\n",
       "      <td>9</td>\n",
       "      <td>Afghanistan</td>\n",
       "      <td>AF</td>\n",
       "      <td>AFG</td>\n",
       "      <td>38041757.0</td>\n",
       "      <td>Asia</td>\n",
       "      <td>7.052776</td>\n",
       "    </tr>\n",
       "    <tr>\n",
       "      <th>2</th>\n",
       "      <td>2020-12-12</td>\n",
       "      <td>12</td>\n",
       "      <td>12</td>\n",
       "      <td>2020</td>\n",
       "      <td>113</td>\n",
       "      <td>11</td>\n",
       "      <td>Afghanistan</td>\n",
       "      <td>AF</td>\n",
       "      <td>AFG</td>\n",
       "      <td>38041757.0</td>\n",
       "      <td>Asia</td>\n",
       "      <td>6.868768</td>\n",
       "    </tr>\n",
       "    <tr>\n",
       "      <th>3</th>\n",
       "      <td>2020-12-11</td>\n",
       "      <td>11</td>\n",
       "      <td>12</td>\n",
       "      <td>2020</td>\n",
       "      <td>63</td>\n",
       "      <td>10</td>\n",
       "      <td>Afghanistan</td>\n",
       "      <td>AF</td>\n",
       "      <td>AFG</td>\n",
       "      <td>38041757.0</td>\n",
       "      <td>Asia</td>\n",
       "      <td>7.134266</td>\n",
       "    </tr>\n",
       "    <tr>\n",
       "      <th>4</th>\n",
       "      <td>2020-12-10</td>\n",
       "      <td>10</td>\n",
       "      <td>12</td>\n",
       "      <td>2020</td>\n",
       "      <td>202</td>\n",
       "      <td>16</td>\n",
       "      <td>Afghanistan</td>\n",
       "      <td>AF</td>\n",
       "      <td>AFG</td>\n",
       "      <td>38041757.0</td>\n",
       "      <td>Asia</td>\n",
       "      <td>6.968658</td>\n",
       "    </tr>\n",
       "    <tr>\n",
       "      <th>5</th>\n",
       "      <td>2020-12-09</td>\n",
       "      <td>9</td>\n",
       "      <td>12</td>\n",
       "      <td>2020</td>\n",
       "      <td>135</td>\n",
       "      <td>13</td>\n",
       "      <td>Afghanistan</td>\n",
       "      <td>AF</td>\n",
       "      <td>AFG</td>\n",
       "      <td>38041757.0</td>\n",
       "      <td>Asia</td>\n",
       "      <td>6.963401</td>\n",
       "    </tr>\n",
       "    <tr>\n",
       "      <th>6</th>\n",
       "      <td>2020-12-08</td>\n",
       "      <td>8</td>\n",
       "      <td>12</td>\n",
       "      <td>2020</td>\n",
       "      <td>200</td>\n",
       "      <td>6</td>\n",
       "      <td>Afghanistan</td>\n",
       "      <td>AF</td>\n",
       "      <td>AFG</td>\n",
       "      <td>38041757.0</td>\n",
       "      <td>Asia</td>\n",
       "      <td>7.094835</td>\n",
       "    </tr>\n",
       "    <tr>\n",
       "      <th>7</th>\n",
       "      <td>2020-12-07</td>\n",
       "      <td>7</td>\n",
       "      <td>12</td>\n",
       "      <td>2020</td>\n",
       "      <td>210</td>\n",
       "      <td>26</td>\n",
       "      <td>Afghanistan</td>\n",
       "      <td>AF</td>\n",
       "      <td>AFG</td>\n",
       "      <td>38041757.0</td>\n",
       "      <td>Asia</td>\n",
       "      <td>7.215755</td>\n",
       "    </tr>\n",
       "    <tr>\n",
       "      <th>8</th>\n",
       "      <td>2020-12-06</td>\n",
       "      <td>6</td>\n",
       "      <td>12</td>\n",
       "      <td>2020</td>\n",
       "      <td>234</td>\n",
       "      <td>10</td>\n",
       "      <td>Afghanistan</td>\n",
       "      <td>AF</td>\n",
       "      <td>AFG</td>\n",
       "      <td>38041757.0</td>\n",
       "      <td>Asia</td>\n",
       "      <td>7.326160</td>\n",
       "    </tr>\n",
       "    <tr>\n",
       "      <th>9</th>\n",
       "      <td>2020-12-05</td>\n",
       "      <td>5</td>\n",
       "      <td>12</td>\n",
       "      <td>2020</td>\n",
       "      <td>235</td>\n",
       "      <td>18</td>\n",
       "      <td>Afghanistan</td>\n",
       "      <td>AF</td>\n",
       "      <td>AFG</td>\n",
       "      <td>38041757.0</td>\n",
       "      <td>Asia</td>\n",
       "      <td>7.115865</td>\n",
       "    </tr>\n",
       "  </tbody>\n",
       "</table>\n",
       "</div>"
      ],
      "text/plain": [
       "     dateRep  day  month  year  cases  deaths countriesAndTerritories geoId  \\\n",
       "0 2020-12-14   14     12  2020    746       6             Afghanistan    AF   \n",
       "1 2020-12-13   13     12  2020    298       9             Afghanistan    AF   \n",
       "2 2020-12-12   12     12  2020    113      11             Afghanistan    AF   \n",
       "3 2020-12-11   11     12  2020     63      10             Afghanistan    AF   \n",
       "4 2020-12-10   10     12  2020    202      16             Afghanistan    AF   \n",
       "5 2020-12-09    9     12  2020    135      13             Afghanistan    AF   \n",
       "6 2020-12-08    8     12  2020    200       6             Afghanistan    AF   \n",
       "7 2020-12-07    7     12  2020    210      26             Afghanistan    AF   \n",
       "8 2020-12-06    6     12  2020    234      10             Afghanistan    AF   \n",
       "9 2020-12-05    5     12  2020    235      18             Afghanistan    AF   \n",
       "\n",
       "  countryterritoryCode  popData2019 continentExp  \\\n",
       "0                  AFG   38041757.0         Asia   \n",
       "1                  AFG   38041757.0         Asia   \n",
       "2                  AFG   38041757.0         Asia   \n",
       "3                  AFG   38041757.0         Asia   \n",
       "4                  AFG   38041757.0         Asia   \n",
       "5                  AFG   38041757.0         Asia   \n",
       "6                  AFG   38041757.0         Asia   \n",
       "7                  AFG   38041757.0         Asia   \n",
       "8                  AFG   38041757.0         Asia   \n",
       "9                  AFG   38041757.0         Asia   \n",
       "\n",
       "   Cumulative_number_for_14_days_of_COVID-19_cases_per_100000  \n",
       "0                                           9.013779           \n",
       "1                                           7.052776           \n",
       "2                                           6.868768           \n",
       "3                                           7.134266           \n",
       "4                                           6.968658           \n",
       "5                                           6.963401           \n",
       "6                                           7.094835           \n",
       "7                                           7.215755           \n",
       "8                                           7.326160           \n",
       "9                                           7.115865           "
      ]
     },
     "execution_count": 2,
     "metadata": {},
     "output_type": "execute_result"
    }
   ],
   "source": [
    "df = pandas.read_excel('s3://dwinnell-ia241-2021spring/COVID-19-geographic-disbtribution-worldwide-2020-12-14.xls')\n",
    "df[:10]"
   ]
  },
  {
   "cell_type": "markdown",
   "id": "38bc6b56",
   "metadata": {},
   "source": [
    "## Finland's Data\n"
   ]
  },
  {
   "cell_type": "code",
   "execution_count": 3,
   "id": "81c0ef87",
   "metadata": {},
   "outputs": [
    {
     "data": {
      "text/html": [
       "<div>\n",
       "<style scoped>\n",
       "    .dataframe tbody tr th:only-of-type {\n",
       "        vertical-align: middle;\n",
       "    }\n",
       "\n",
       "    .dataframe tbody tr th {\n",
       "        vertical-align: top;\n",
       "    }\n",
       "\n",
       "    .dataframe thead th {\n",
       "        text-align: right;\n",
       "    }\n",
       "</style>\n",
       "<table border=\"1\" class=\"dataframe\">\n",
       "  <thead>\n",
       "    <tr style=\"text-align: right;\">\n",
       "      <th></th>\n",
       "      <th>dateRep</th>\n",
       "      <th>day</th>\n",
       "      <th>month</th>\n",
       "      <th>year</th>\n",
       "      <th>cases</th>\n",
       "      <th>deaths</th>\n",
       "      <th>countriesAndTerritories</th>\n",
       "      <th>geoId</th>\n",
       "      <th>countryterritoryCode</th>\n",
       "      <th>popData2019</th>\n",
       "      <th>continentExp</th>\n",
       "      <th>Cumulative_number_for_14_days_of_COVID-19_cases_per_100000</th>\n",
       "    </tr>\n",
       "  </thead>\n",
       "  <tbody>\n",
       "    <tr>\n",
       "      <th>20018</th>\n",
       "      <td>2020-12-14</td>\n",
       "      <td>14</td>\n",
       "      <td>12</td>\n",
       "      <td>2020</td>\n",
       "      <td>360</td>\n",
       "      <td>0</td>\n",
       "      <td>Finland</td>\n",
       "      <td>FI</td>\n",
       "      <td>FIN</td>\n",
       "      <td>5517919.0</td>\n",
       "      <td>Europe</td>\n",
       "      <td>112.016867</td>\n",
       "    </tr>\n",
       "    <tr>\n",
       "      <th>20019</th>\n",
       "      <td>2020-12-13</td>\n",
       "      <td>13</td>\n",
       "      <td>12</td>\n",
       "      <td>2020</td>\n",
       "      <td>377</td>\n",
       "      <td>0</td>\n",
       "      <td>Finland</td>\n",
       "      <td>FI</td>\n",
       "      <td>FIN</td>\n",
       "      <td>5517919.0</td>\n",
       "      <td>Europe</td>\n",
       "      <td>111.328202</td>\n",
       "    </tr>\n",
       "    <tr>\n",
       "      <th>20020</th>\n",
       "      <td>2020-12-12</td>\n",
       "      <td>12</td>\n",
       "      <td>12</td>\n",
       "      <td>2020</td>\n",
       "      <td>501</td>\n",
       "      <td>11</td>\n",
       "      <td>Finland</td>\n",
       "      <td>FI</td>\n",
       "      <td>FIN</td>\n",
       "      <td>5517919.0</td>\n",
       "      <td>Europe</td>\n",
       "      <td>114.300337</td>\n",
       "    </tr>\n",
       "    <tr>\n",
       "      <th>20021</th>\n",
       "      <td>2020-12-11</td>\n",
       "      <td>11</td>\n",
       "      <td>12</td>\n",
       "      <td>2020</td>\n",
       "      <td>840</td>\n",
       "      <td>9</td>\n",
       "      <td>Finland</td>\n",
       "      <td>FI</td>\n",
       "      <td>FIN</td>\n",
       "      <td>5517919.0</td>\n",
       "      <td>Europe</td>\n",
       "      <td>116.420701</td>\n",
       "    </tr>\n",
       "    <tr>\n",
       "      <th>20022</th>\n",
       "      <td>2020-12-10</td>\n",
       "      <td>10</td>\n",
       "      <td>12</td>\n",
       "      <td>2020</td>\n",
       "      <td>490</td>\n",
       "      <td>8</td>\n",
       "      <td>Finland</td>\n",
       "      <td>FI</td>\n",
       "      <td>FIN</td>\n",
       "      <td>5517919.0</td>\n",
       "      <td>Europe</td>\n",
       "      <td>110.186467</td>\n",
       "    </tr>\n",
       "    <tr>\n",
       "      <th>20023</th>\n",
       "      <td>2020-12-09</td>\n",
       "      <td>9</td>\n",
       "      <td>12</td>\n",
       "      <td>2020</td>\n",
       "      <td>361</td>\n",
       "      <td>1</td>\n",
       "      <td>Finland</td>\n",
       "      <td>FI</td>\n",
       "      <td>FIN</td>\n",
       "      <td>5517919.0</td>\n",
       "      <td>Europe</td>\n",
       "      <td>107.884875</td>\n",
       "    </tr>\n",
       "    <tr>\n",
       "      <th>20024</th>\n",
       "      <td>2020-12-08</td>\n",
       "      <td>8</td>\n",
       "      <td>12</td>\n",
       "      <td>2020</td>\n",
       "      <td>250</td>\n",
       "      <td>9</td>\n",
       "      <td>Finland</td>\n",
       "      <td>FI</td>\n",
       "      <td>FIN</td>\n",
       "      <td>5517919.0</td>\n",
       "      <td>Europe</td>\n",
       "      <td>107.739893</td>\n",
       "    </tr>\n",
       "    <tr>\n",
       "      <th>20025</th>\n",
       "      <td>2020-12-07</td>\n",
       "      <td>7</td>\n",
       "      <td>12</td>\n",
       "      <td>2020</td>\n",
       "      <td>413</td>\n",
       "      <td>0</td>\n",
       "      <td>Finland</td>\n",
       "      <td>FI</td>\n",
       "      <td>FIN</td>\n",
       "      <td>5517919.0</td>\n",
       "      <td>Europe</td>\n",
       "      <td>108.591663</td>\n",
       "    </tr>\n",
       "    <tr>\n",
       "      <th>20026</th>\n",
       "      <td>2020-12-06</td>\n",
       "      <td>6</td>\n",
       "      <td>12</td>\n",
       "      <td>2020</td>\n",
       "      <td>460</td>\n",
       "      <td>0</td>\n",
       "      <td>Finland</td>\n",
       "      <td>FI</td>\n",
       "      <td>FIN</td>\n",
       "      <td>5517919.0</td>\n",
       "      <td>Europe</td>\n",
       "      <td>108.772891</td>\n",
       "    </tr>\n",
       "    <tr>\n",
       "      <th>20027</th>\n",
       "      <td>2020-12-05</td>\n",
       "      <td>5</td>\n",
       "      <td>12</td>\n",
       "      <td>2020</td>\n",
       "      <td>316</td>\n",
       "      <td>7</td>\n",
       "      <td>Finland</td>\n",
       "      <td>FI</td>\n",
       "      <td>FIN</td>\n",
       "      <td>5517919.0</td>\n",
       "      <td>Europe</td>\n",
       "      <td>108.935996</td>\n",
       "    </tr>\n",
       "  </tbody>\n",
       "</table>\n",
       "</div>"
      ],
      "text/plain": [
       "         dateRep  day  month  year  cases  deaths countriesAndTerritories  \\\n",
       "20018 2020-12-14   14     12  2020    360       0                 Finland   \n",
       "20019 2020-12-13   13     12  2020    377       0                 Finland   \n",
       "20020 2020-12-12   12     12  2020    501      11                 Finland   \n",
       "20021 2020-12-11   11     12  2020    840       9                 Finland   \n",
       "20022 2020-12-10   10     12  2020    490       8                 Finland   \n",
       "20023 2020-12-09    9     12  2020    361       1                 Finland   \n",
       "20024 2020-12-08    8     12  2020    250       9                 Finland   \n",
       "20025 2020-12-07    7     12  2020    413       0                 Finland   \n",
       "20026 2020-12-06    6     12  2020    460       0                 Finland   \n",
       "20027 2020-12-05    5     12  2020    316       7                 Finland   \n",
       "\n",
       "      geoId countryterritoryCode  popData2019 continentExp  \\\n",
       "20018    FI                  FIN    5517919.0       Europe   \n",
       "20019    FI                  FIN    5517919.0       Europe   \n",
       "20020    FI                  FIN    5517919.0       Europe   \n",
       "20021    FI                  FIN    5517919.0       Europe   \n",
       "20022    FI                  FIN    5517919.0       Europe   \n",
       "20023    FI                  FIN    5517919.0       Europe   \n",
       "20024    FI                  FIN    5517919.0       Europe   \n",
       "20025    FI                  FIN    5517919.0       Europe   \n",
       "20026    FI                  FIN    5517919.0       Europe   \n",
       "20027    FI                  FIN    5517919.0       Europe   \n",
       "\n",
       "       Cumulative_number_for_14_days_of_COVID-19_cases_per_100000  \n",
       "20018                                         112.016867           \n",
       "20019                                         111.328202           \n",
       "20020                                         114.300337           \n",
       "20021                                         116.420701           \n",
       "20022                                         110.186467           \n",
       "20023                                         107.884875           \n",
       "20024                                         107.739893           \n",
       "20025                                         108.591663           \n",
       "20026                                         108.772891           \n",
       "20027                                         108.935996           "
      ]
     },
     "execution_count": 3,
     "metadata": {},
     "output_type": "execute_result"
    }
   ],
   "source": [
    "finland_data = df.loc[ df['countriesAndTerritories']=='Finland' ]\n",
    "finland_data[:10] #the top 10 rows"
   ]
  },
  {
   "cell_type": "markdown",
   "id": "f025126e",
   "metadata": {},
   "source": [
    "## Finland's Number of Confirmed Cases Within 2020 (as of Dec 2020)"
   ]
  },
  {
   "cell_type": "code",
   "execution_count": 4,
   "id": "9f24250d",
   "metadata": {},
   "outputs": [
    {
     "data": {
      "text/plain": [
       "month\n",
       "1        1\n",
       "2        2\n",
       "3     1310\n",
       "4     3593\n",
       "5     1920\n",
       "6      383\n",
       "7      214\n",
       "8      654\n",
       "9     1815\n",
       "10    6018\n",
       "11    8719\n",
       "12    6181\n",
       "Name: cases, dtype: int64"
      ]
     },
     "execution_count": 4,
     "metadata": {},
     "output_type": "execute_result"
    }
   ],
   "source": [
    "month_cases=finland_data.groupby('month').sum()['cases']\n",
    "month_cases[:]"
   ]
  },
  {
   "cell_type": "markdown",
   "id": "97c66294",
   "metadata": {},
   "source": [
    "## Finland's Number of Deaths Within 2020 (as of Dec 2020)"
   ]
  },
  {
   "cell_type": "code",
   "execution_count": 5,
   "id": "d7cdbf08",
   "metadata": {},
   "outputs": [
    {
     "data": {
      "text/plain": [
       "month\n",
       "1       0\n",
       "2       0\n",
       "3      13\n",
       "4     193\n",
       "5     110\n",
       "6      12\n",
       "7       1\n",
       "8       6\n",
       "9       8\n",
       "10     15\n",
       "11     35\n",
       "12     60\n",
       "Name: deaths, dtype: int64"
      ]
     },
     "execution_count": 5,
     "metadata": {},
     "output_type": "execute_result"
    }
   ],
   "source": [
    "month_deaths=finland_data.groupby('month').sum()['deaths']\n",
    "month_deaths[:]"
   ]
  },
  {
   "cell_type": "markdown",
   "id": "f9560091",
   "metadata": {},
   "source": [
    "## Highest Death Rate Months in Finland due to COVID-19 (as of Dec 2020)"
   ]
  },
  {
   "cell_type": "code",
   "execution_count": 6,
   "id": "bf9e9601",
   "metadata": {},
   "outputs": [
    {
     "data": {
      "text/plain": [
       "<AxesSubplot:xlabel='month'>"
      ]
     },
     "execution_count": 6,
     "metadata": {},
     "output_type": "execute_result"
    },
    {
     "data": {
      "image/png": "[encoded data removed]",
      "text/plain": [
       "<Figure size 432x288 with 1 Axes>"
      ]
     },
     "metadata": {
      "needs_background": "light"
     },
     "output_type": "display_data"
    }
   ],
   "source": [
    "month_deaths.plot.bar()"
   ]
  },
  {
   "cell_type": "markdown",
   "id": "bc63f2f8",
   "metadata": {},
   "source": [
    "This bar chart visually represents that March had the highest number of deaths. After the spike, the numbers decrease by about 80 deaths. Closer to the end of the year, the number of deaths due to COVID-19 rose slightly, but not as drastically as March. "
   ]
  },
  {
   "cell_type": "markdown",
   "id": "721a326b",
   "metadata": {},
   "source": [
    "## How Finland's Death Rate Is Related to the Number of Cases"
   ]
  },
  {
   "cell_type": "code",
   "execution_count": 7,
   "id": "ee732728",
   "metadata": {},
   "outputs": [
    {
     "data": {
      "text/plain": [
       "<AxesSubplot:xlabel='cases', ylabel='deaths'>"
      ]
     },
     "execution_count": 7,
     "metadata": {},
     "output_type": "execute_result"
    },
    {
     "data": {
      "image/png": "[encoded data removed]",
      "text/plain": [
       "<Figure size 432x288 with 2 Axes>"
      ]
     },
     "metadata": {
      "needs_background": "light"
     },
     "output_type": "display_data"
    }
   ],
   "source": [
    "finland_data.plot.scatter(x='cases',y='deaths', c='month')"
   ]
  },
  {
   "cell_type": "markdown",
   "id": "4519f67f",
   "metadata": {},
   "source": [
    "In conclusion, this code represents the data of Finland according to the data in the European Centre for Disease Prevention and Control. Finland, though their cases number reached close to over 800 a day in certain months, kept their death rates down, resulting in only one major spike seen in March. Though this is a reliable data source through its credentials, there are some limitations to this code. First, is the limited data in the source itself. The data only provides case numbers and death rates per month. It does not factor in age, specific locations within Finland, or race which are data points that help provide a fuller picture of the how the pandemic has affected people within each country and around the world. Another limitation is my personal skill level with Python. Because I am new to the software, I am limited to my ability to represent the data in an easier to read, more visually appealing way to others. Additionally, I am more likely to make human errors within the code than someone who is far more experienced. "
   ]
  }
 ],
 "metadata": {
  "kernelspec": {
   "display_name": "conda_python3",
   "language": "python",
   "name": "conda_python3"
  },
  "language_info": {
   "codemirror_mode": {
    "name": "ipython",
    "version": 3
   },
   "file_extension": ".py",
   "mimetype": "text/x-python",
   "name": "python",
   "nbconvert_exporter": "python",
   "pygments_lexer": "ipython3",
   "version": "3.6.13"
  }
 },
 "nbformat": 4,
 "nbformat_minor": 5
}
